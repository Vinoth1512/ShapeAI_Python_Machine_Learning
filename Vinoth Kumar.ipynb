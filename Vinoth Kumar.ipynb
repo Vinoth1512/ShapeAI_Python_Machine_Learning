{
  "nbformat": 4,
  "nbformat_minor": 0,
  "metadata": {
    "colab": {
      "name": "Boston ML project.ipynb",
      "provenance": []
    },
    "kernelspec": {
      "name": "python3",
      "display_name": "Python 3"
    },
    "language_info": {
      "name": "python"
    }
  },
  "cells": [
    {
      "cell_type": "code",
      "metadata": {
        "id": "XUZbJQ76Dj3i"
      },
      "source": [
        "import sklearn\n",
        "import numpy as np\n",
        "import pandas as pd\n",
        "import matplotlib.pyplot as plt\n",
        "from sklearn.metrics import mean_squared_error\n",
        "from sklearn.model_selection import train_test_split\n",
        "from sklearn.linear_model import LinearRegression\n",
        "from sklearn.datasets import load_boston\n",
        "from sklearn.metrics import *"
      ],
      "execution_count": null,
      "outputs": []
    },
    {
      "cell_type": "code",
      "metadata": {
        "colab": {
          "base_uri": "https://localhost:8080/"
        },
        "id": "wapP2Q31Drtd",
        "outputId": "fe58bf75-7b1d-4e4f-e304-fee8ec99d58a"
      },
      "source": [
        "dataset=load_boston()\n",
        "dataset.keys()\n"
      ],
      "execution_count": null,
      "outputs": [
        {
          "output_type": "execute_result",
          "data": {
            "text/plain": [
              "dict_keys(['data', 'target', 'feature_names', 'DESCR', 'filename'])"
            ]
          },
          "metadata": {
            "tags": []
          },
          "execution_count": 32
        }
      ]
    },
    {
      "cell_type": "code",
      "metadata": {
        "id": "42spd-ywDt7X"
      },
      "source": [
        "bos=pd.DataFrame(dataset['data'],columns=dataset.feature_names)"
      ],
      "execution_count": null,
      "outputs": []
    },
    {
      "cell_type": "code",
      "metadata": {
        "id": "W2cKNMymDz5o"
      },
      "source": [
        "bos[\"Price\"]=dataset.target\n",
        "\n",
        "x=bos.drop(\"Price\",axis=1)\n",
        "y=bos[\"Price\"]"
      ],
      "execution_count": null,
      "outputs": []
    },
    {
      "cell_type": "code",
      "metadata": {
        "id": "v4KjKNZ1D0iO"
      },
      "source": [
        "xtrain,xtest,ytrain,ytest=train_test_split(x,y,test_size=.20,random_state=5)\n",
        "model=LinearRegression()\n",
        "model.fit(xtrain,ytrain)\n",
        "y_pred_train=model.predict(xtrain)\n",
        "y_pred_test=model.predict(xtest)\n"
      ],
      "execution_count": null,
      "outputs": []
    },
    {
      "cell_type": "code",
      "metadata": {
        "colab": {
          "base_uri": "https://localhost:8080/",
          "height": 450
        },
        "id": "IHv3R0sYENBv",
        "outputId": "1ab68203-6e5c-4ba4-8dae-e9adb9efb98d"
      },
      "source": [
        "pred_vs_act=pd.DataFrame(y_pred_test,ytest)\n",
        "pred_vs_act"
      ],
      "execution_count": null,
      "outputs": [
        {
          "output_type": "execute_result",
          "data": {
            "text/html": [
              "<div>\n",
              "<style scoped>\n",
              "    .dataframe tbody tr th:only-of-type {\n",
              "        vertical-align: middle;\n",
              "    }\n",
              "\n",
              "    .dataframe tbody tr th {\n",
              "        vertical-align: top;\n",
              "    }\n",
              "\n",
              "    .dataframe thead th {\n",
              "        text-align: right;\n",
              "    }\n",
              "</style>\n",
              "<table border=\"1\" class=\"dataframe\">\n",
              "  <thead>\n",
              "    <tr style=\"text-align: right;\">\n",
              "      <th></th>\n",
              "      <th>0</th>\n",
              "    </tr>\n",
              "    <tr>\n",
              "      <th>Price</th>\n",
              "      <th></th>\n",
              "    </tr>\n",
              "  </thead>\n",
              "  <tbody>\n",
              "    <tr>\n",
              "      <th>37.6</th>\n",
              "      <td>37.563118</td>\n",
              "    </tr>\n",
              "    <tr>\n",
              "      <th>27.9</th>\n",
              "      <td>32.144451</td>\n",
              "    </tr>\n",
              "    <tr>\n",
              "      <th>22.6</th>\n",
              "      <td>27.065736</td>\n",
              "    </tr>\n",
              "    <tr>\n",
              "      <th>13.8</th>\n",
              "      <td>5.670806</td>\n",
              "    </tr>\n",
              "    <tr>\n",
              "      <th>35.2</th>\n",
              "      <td>35.099826</td>\n",
              "    </tr>\n",
              "    <tr>\n",
              "      <th>...</th>\n",
              "      <td>...</td>\n",
              "    </tr>\n",
              "    <tr>\n",
              "      <th>26.6</th>\n",
              "      <td>21.912956</td>\n",
              "    </tr>\n",
              "    <tr>\n",
              "      <th>22.4</th>\n",
              "      <td>22.394774</td>\n",
              "    </tr>\n",
              "    <tr>\n",
              "      <th>13.1</th>\n",
              "      <td>13.193354</td>\n",
              "    </tr>\n",
              "    <tr>\n",
              "      <th>23.0</th>\n",
              "      <td>23.969911</td>\n",
              "    </tr>\n",
              "    <tr>\n",
              "      <th>24.5</th>\n",
              "      <td>21.199147</td>\n",
              "    </tr>\n",
              "  </tbody>\n",
              "</table>\n",
              "<p>102 rows × 1 columns</p>\n",
              "</div>"
            ],
            "text/plain": [
              "               0\n",
              "Price           \n",
              "37.6   37.563118\n",
              "27.9   32.144451\n",
              "22.6   27.065736\n",
              "13.8    5.670806\n",
              "35.2   35.099826\n",
              "...          ...\n",
              "26.6   21.912956\n",
              "22.4   22.394774\n",
              "13.1   13.193354\n",
              "23.0   23.969911\n",
              "24.5   21.199147\n",
              "\n",
              "[102 rows x 1 columns]"
            ]
          },
          "metadata": {
            "tags": []
          },
          "execution_count": 36
        }
      ]
    },
    {
      "cell_type": "code",
      "metadata": {
        "colab": {
          "base_uri": "https://localhost:8080/"
        },
        "id": "NIeF1LoyEQsC",
        "outputId": "c1fb8f93-aae2-4a32-c85a-aeb7d721d127"
      },
      "source": [
        "mse=mean_squared_error(ytest,y_pred_test)\n",
        "print(mse)"
      ],
      "execution_count": null,
      "outputs": [
        {
          "output_type": "stream",
          "text": [
            "20.869292183770735\n"
          ],
          "name": "stdout"
        }
      ]
    },
    {
      "cell_type": "code",
      "metadata": {
        "colab": {
          "base_uri": "https://localhost:8080/",
          "height": 295
        },
        "id": "3XOWz5aAFpW2",
        "outputId": "bb570b3a-c075-494a-fe3f-3b189b768898"
      },
      "source": [
        "plt.scatter(ytest,y_pred_test)\n",
        "plt.plot([min(y_pred_test),max(y_pred_test)],[min(y_pred_test),max(y_pred_test)],c='r')\n",
        "plt.xlabel('Actual')\n",
        "plt.ylabel(\"Predicted\")\n",
        "plt.title(\"BOSTON HOUSE PRICE PREDICTION\")\n",
        "\n",
        "plt.show()"
      ],
      "execution_count": null,
      "outputs": [
        {
          "output_type": "display_data",
          "data": {
            "image/png": "[encoded data removed]",
            "text/plain": [
              "<Figure size 432x288 with 1 Axes>"
            ]
          },
          "metadata": {
            "tags": [],
            "needs_background": "light"
          }
        }
      ]
    },
    {
      "cell_type": "code",
      "metadata": {
        "id": "__PuuegdGCGe"
      },
      "source": [
        ""
      ],
      "execution_count": null,
      "outputs": []
    }
  ]
}